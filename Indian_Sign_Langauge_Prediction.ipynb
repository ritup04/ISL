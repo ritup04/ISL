{
  "nbformat": 4,
  "nbformat_minor": 0,
  "metadata": {
    "colab": {
      "provenance": [],
      "gpuType": "T4"
    },
    "kernelspec": {
      "name": "python3",
      "display_name": "Python 3"
    },
    "language_info": {
      "name": "python"
    },
    "accelerator": "GPU"
  },
  "cells": [
    {
      "cell_type": "markdown",
      "source": [
        "### Step - 1: Loading the necessary libraries"
      ],
      "metadata": {
        "id": "k9P9xSLyp5xE"
      }
    },
    {
      "cell_type": "code",
      "source": [
        "import kagglehub\n",
        "import os\n",
        "import cv2\n",
        "import numpy as np\n",
        "import matplotlib.pyplot as plt\n",
        "import tensorflow as tf\n",
        "from tensorflow.keras.applications import ResNet50, MobileNetV2\n",
        "from tensorflow.keras.applications.resnet50 import preprocess_input as resnet_preprocess\n",
        "from tensorflow.keras.applications.mobilenet_v2 import preprocess_input as mobile_preprocess\n",
        "from tensorflow.keras.models import Model\n",
        "from tensorflow.keras.layers import Dense, Dropout, GlobalAveragePooling2D\n",
        "from tensorflow.keras.optimizers import Adam\n",
        "from tensorflow.keras.preprocessing.image import ImageDataGenerator\n",
        "from tensorflow.keras.callbacks import EarlyStopping\n",
        "from sklearn.model_selection import train_test_split\n",
        "from sklearn.preprocessing import LabelEncoder"
      ],
      "metadata": {
        "id": "d7vid9Jlp5Rv"
      },
      "execution_count": 1,
      "outputs": []
    },
    {
      "cell_type": "markdown",
      "source": [
        "### Step - 2: Download the dataset"
      ],
      "metadata": {
        "id": "j6WumkkHqHlG"
      }
    },
    {
      "cell_type": "code",
      "source": [
        "path = kagglehub.dataset_download(\"soumyakushwaha/indian-sign-language-dataset\")\n",
        "def find_data_dir(start_path):\n",
        "    for root, dirs, files in os.walk(start_path):\n",
        "        if all(len(d) == 1 and d.isalpha() for d in dirs) and len(dirs) > 5:\n",
        "            return root\n",
        "    return None\n",
        "data_dir = find_data_dir(path)"
      ],
      "metadata": {
        "colab": {
          "base_uri": "https://localhost:8080/"
        },
        "id": "FjqPa1XSqHIB",
        "outputId": "200d73ae-1f25-4807-8707-02fc0b2b5988"
      },
      "execution_count": 2,
      "outputs": [
        {
          "output_type": "stream",
          "name": "stdout",
          "text": [
            "Downloading from https://www.kaggle.com/api/v1/datasets/download/soumyakushwaha/indian-sign-language-dataset?dataset_version_number=1...\n"
          ]
        },
        {
          "output_type": "stream",
          "name": "stderr",
          "text": [
            "100%|██████████| 2.82M/2.82M [00:01<00:00, 2.36MB/s]"
          ]
        },
        {
          "output_type": "stream",
          "name": "stdout",
          "text": [
            "Extracting files...\n"
          ]
        },
        {
          "output_type": "stream",
          "name": "stderr",
          "text": [
            "\n"
          ]
        }
      ]
    },
    {
      "cell_type": "markdown",
      "source": [
        "### Step - 3: Load the dataset"
      ],
      "metadata": {
        "id": "dWP8gthDqYv4"
      }
    },
    {
      "cell_type": "code",
      "source": [
        "def load_dataset(data_dir, img_size=(224, 224)):\n",
        "    images, labels = [], []\n",
        "    for folder in sorted(os.listdir(data_dir)):\n",
        "        folder_path = os.path.join(data_dir, folder)\n",
        "        for img_name in os.listdir(folder_path):\n",
        "            img_path = os.path.join(folder_path, img_name)\n",
        "            img = cv2.imread(img_path)\n",
        "            if img is not None:\n",
        "                img = cv2.resize(img, img_size)\n",
        "                images.append(img)\n",
        "                labels.append(folder)\n",
        "    return np.array(images), np.array(labels)\n",
        "\n",
        "images, labels = load_dataset(data_dir)\n",
        "label_encoder = LabelEncoder()\n",
        "labels_encoded = label_encoder.fit_transform(labels)\n",
        "X_train, X_test, y_train, y_test = train_test_split(images, labels_encoded, test_size=0.2, stratify=labels_encoded, random_state=42)"
      ],
      "metadata": {
        "id": "iUgOfa2NqaM-"
      },
      "execution_count": 3,
      "outputs": []
    },
    {
      "cell_type": "markdown",
      "source": [
        "### Step - 4: Preprocessing"
      ],
      "metadata": {
        "id": "-dvgqCRcqdQw"
      }
    },
    {
      "cell_type": "code",
      "source": [
        "X_train_mobile = mobile_preprocess(X_train.copy())\n",
        "X_test_mobile = mobile_preprocess(X_test.copy())\n",
        "X_train_resnet = resnet_preprocess(X_train.copy())\n",
        "X_test_resnet = resnet_preprocess(X_test.copy())"
      ],
      "metadata": {
        "id": "5iTB3kkKqef_"
      },
      "execution_count": 4,
      "outputs": []
    },
    {
      "cell_type": "markdown",
      "source": [
        "### Step - 5: Data Augmentation"
      ],
      "metadata": {
        "id": "5R0PppAHqhK2"
      }
    },
    {
      "cell_type": "code",
      "source": [
        "aug = ImageDataGenerator(\n",
        "    rotation_range=25,\n",
        "    zoom_range=0.2,\n",
        "    width_shift_range=0.1,\n",
        "    height_shift_range=0.1,\n",
        "    shear_range=0.2,\n",
        "    horizontal_flip=True\n",
        ")\n",
        "aug.fit(X_train)"
      ],
      "metadata": {
        "id": "YRQb2RnIqjoh"
      },
      "execution_count": 5,
      "outputs": []
    },
    {
      "cell_type": "markdown",
      "source": [
        "### Step - 6: Build model"
      ],
      "metadata": {
        "id": "JHHxFE-rq1UP"
      }
    },
    {
      "cell_type": "code",
      "source": [
        "def build_model(base_fn, input_shape, num_classes, fine_tune_at=50, lr=1e-4, dropout_rate=0.5):\n",
        "    base = base_fn(weights='imagenet', include_top=False, input_shape=input_shape)\n",
        "    base.trainable = True\n",
        "    for layer in base.layers[:fine_tune_at]:\n",
        "        layer.trainable = False\n",
        "\n",
        "    x = base.output\n",
        "    x = GlobalAveragePooling2D()(x)\n",
        "    x = Dropout(dropout_rate)(x)\n",
        "    x = Dense(256, activation='relu')(x)\n",
        "    x = Dropout(dropout_rate)(x)\n",
        "    output = Dense(num_classes, activation='softmax')(x)\n",
        "\n",
        "    model = Model(inputs=base.input, outputs=output)\n",
        "    model.compile(optimizer=Adam(learning_rate=lr), loss='sparse_categorical_crossentropy', metrics=['accuracy'])\n",
        "    return model\n",
        "\n",
        "input_shape = (224, 224, 3)\n",
        "num_classes = len(np.unique(y_train))\n",
        "early_stop = EarlyStopping(monitor='val_accuracy', patience=5, restore_best_weights=True)"
      ],
      "metadata": {
        "id": "iTdyKuwoq6Be"
      },
      "execution_count": 6,
      "outputs": []
    },
    {
      "cell_type": "markdown",
      "source": [
        "### Step - 7: Train ResNet50"
      ],
      "metadata": {
        "id": "dX2zFQD3q8aU"
      }
    },
    {
      "cell_type": "code",
      "source": [
        "print(\"\\n🚀 Training ResNet50...\")\n",
        "resnet_model = build_model(ResNet50, input_shape, num_classes, fine_tune_at=80, lr=1e-4)\n",
        "history_resnet = resnet_model.fit(\n",
        "    aug.flow(X_train_resnet, y_train, batch_size=16),\n",
        "    validation_data=(X_test_resnet, y_test),\n",
        "    epochs=40,\n",
        "    callbacks=[early_stop],\n",
        "    verbose=1\n",
        ")"
      ],
      "metadata": {
        "colab": {
          "base_uri": "https://localhost:8080/"
        },
        "id": "g0a7GyAmrBUD",
        "outputId": "b6500a4f-7690-4a3e-cb4d-3ff2acd1f4ef"
      },
      "execution_count": 7,
      "outputs": [
        {
          "output_type": "stream",
          "name": "stdout",
          "text": [
            "\n",
            "🚀 Training ResNet50...\n",
            "Downloading data from https://storage.googleapis.com/tensorflow/keras-applications/resnet/resnet50_weights_tf_dim_ordering_tf_kernels_notop.h5\n",
            "\u001b[1m94765736/94765736\u001b[0m \u001b[32m━━━━━━━━━━━━━━━━━━━━\u001b[0m\u001b[37m\u001b[0m \u001b[1m5s\u001b[0m 0us/step\n"
          ]
        },
        {
          "output_type": "stream",
          "name": "stderr",
          "text": [
            "/usr/local/lib/python3.11/dist-packages/keras/src/trainers/data_adapters/py_dataset_adapter.py:121: UserWarning: Your `PyDataset` class should call `super().__init__(**kwargs)` in its constructor. `**kwargs` can include `workers`, `use_multiprocessing`, `max_queue_size`. Do not pass these arguments to `fit()`, as they will be ignored.\n",
            "  self._warn_if_super_not_called()\n"
          ]
        },
        {
          "output_type": "stream",
          "name": "stdout",
          "text": [
            "Epoch 1/40\n",
            "\u001b[1m36/36\u001b[0m \u001b[32m━━━━━━━━━━━━━━━━━━━━\u001b[0m\u001b[37m\u001b[0m \u001b[1m76s\u001b[0m 987ms/step - accuracy: 0.0403 - loss: 4.2200 - val_accuracy: 0.1348 - val_loss: 3.1922\n",
            "Epoch 2/40\n",
            "\u001b[1m36/36\u001b[0m \u001b[32m━━━━━━━━━━━━━━━━━━━━\u001b[0m\u001b[37m\u001b[0m \u001b[1m8s\u001b[0m 224ms/step - accuracy: 0.1122 - loss: 3.3377 - val_accuracy: 0.1631 - val_loss: 2.8527\n",
            "Epoch 3/40\n",
            "\u001b[1m36/36\u001b[0m \u001b[32m━━━━━━━━━━━━━━━━━━━━\u001b[0m\u001b[37m\u001b[0m \u001b[1m10s\u001b[0m 221ms/step - accuracy: 0.1580 - loss: 2.9533 - val_accuracy: 0.3404 - val_loss: 2.3577\n",
            "Epoch 4/40\n",
            "\u001b[1m36/36\u001b[0m \u001b[32m━━━━━━━━━━━━━━━━━━━━\u001b[0m\u001b[37m\u001b[0m \u001b[1m9s\u001b[0m 238ms/step - accuracy: 0.2293 - loss: 2.4978 - val_accuracy: 0.4681 - val_loss: 1.9219\n",
            "Epoch 5/40\n",
            "\u001b[1m36/36\u001b[0m \u001b[32m━━━━━━━━━━━━━━━━━━━━\u001b[0m\u001b[37m\u001b[0m \u001b[1m9s\u001b[0m 237ms/step - accuracy: 0.3876 - loss: 2.1092 - val_accuracy: 0.5035 - val_loss: 1.6114\n",
            "Epoch 6/40\n",
            "\u001b[1m36/36\u001b[0m \u001b[32m━━━━━━━━━━━━━━━━━━━━\u001b[0m\u001b[37m\u001b[0m \u001b[1m8s\u001b[0m 215ms/step - accuracy: 0.5449 - loss: 1.5916 - val_accuracy: 0.6170 - val_loss: 1.1445\n",
            "Epoch 7/40\n",
            "\u001b[1m36/36\u001b[0m \u001b[32m━━━━━━━━━━━━━━━━━━━━\u001b[0m\u001b[37m\u001b[0m \u001b[1m9s\u001b[0m 246ms/step - accuracy: 0.6568 - loss: 1.2585 - val_accuracy: 0.7234 - val_loss: 0.8750\n",
            "Epoch 8/40\n",
            "\u001b[1m36/36\u001b[0m \u001b[32m━━━━━━━━━━━━━━━━━━━━\u001b[0m\u001b[37m\u001b[0m \u001b[1m9s\u001b[0m 245ms/step - accuracy: 0.7275 - loss: 0.9701 - val_accuracy: 0.7730 - val_loss: 0.7423\n",
            "Epoch 9/40\n",
            "\u001b[1m36/36\u001b[0m \u001b[32m━━━━━━━━━━━━━━━━━━━━\u001b[0m\u001b[37m\u001b[0m \u001b[1m8s\u001b[0m 228ms/step - accuracy: 0.8053 - loss: 0.7290 - val_accuracy: 0.7872 - val_loss: 0.6272\n",
            "Epoch 10/40\n",
            "\u001b[1m36/36\u001b[0m \u001b[32m━━━━━━━━━━━━━━━━━━━━\u001b[0m\u001b[37m\u001b[0m \u001b[1m8s\u001b[0m 221ms/step - accuracy: 0.8386 - loss: 0.5704 - val_accuracy: 0.8014 - val_loss: 0.5536\n",
            "Epoch 11/40\n",
            "\u001b[1m36/36\u001b[0m \u001b[32m━━━━━━━━━━━━━━━━━━━━\u001b[0m\u001b[37m\u001b[0m \u001b[1m9s\u001b[0m 248ms/step - accuracy: 0.8915 - loss: 0.4113 - val_accuracy: 0.8156 - val_loss: 0.5445\n",
            "Epoch 12/40\n",
            "\u001b[1m36/36\u001b[0m \u001b[32m━━━━━━━━━━━━━━━━━━━━\u001b[0m\u001b[37m\u001b[0m \u001b[1m8s\u001b[0m 229ms/step - accuracy: 0.9241 - loss: 0.3032 - val_accuracy: 0.8085 - val_loss: 0.5941\n",
            "Epoch 13/40\n",
            "\u001b[1m36/36\u001b[0m \u001b[32m━━━━━━━━━━━━━━━━━━━━\u001b[0m\u001b[37m\u001b[0m \u001b[1m10s\u001b[0m 222ms/step - accuracy: 0.9300 - loss: 0.3000 - val_accuracy: 0.8298 - val_loss: 0.6338\n",
            "Epoch 14/40\n",
            "\u001b[1m36/36\u001b[0m \u001b[32m━━━━━━━━━━━━━━━━━━━━\u001b[0m\u001b[37m\u001b[0m \u001b[1m9s\u001b[0m 232ms/step - accuracy: 0.9540 - loss: 0.1943 - val_accuracy: 0.8227 - val_loss: 0.7340\n",
            "Epoch 15/40\n",
            "\u001b[1m36/36\u001b[0m \u001b[32m━━━━━━━━━━━━━━━━━━━━\u001b[0m\u001b[37m\u001b[0m \u001b[1m9s\u001b[0m 242ms/step - accuracy: 0.9114 - loss: 0.3210 - val_accuracy: 0.8369 - val_loss: 0.6322\n",
            "Epoch 16/40\n",
            "\u001b[1m36/36\u001b[0m \u001b[32m━━━━━━━━━━━━━━━━━━━━\u001b[0m\u001b[37m\u001b[0m \u001b[1m8s\u001b[0m 220ms/step - accuracy: 0.9444 - loss: 0.2346 - val_accuracy: 0.8227 - val_loss: 0.6053\n",
            "Epoch 17/40\n",
            "\u001b[1m36/36\u001b[0m \u001b[32m━━━━━━━━━━━━━━━━━━━━\u001b[0m\u001b[37m\u001b[0m \u001b[1m8s\u001b[0m 226ms/step - accuracy: 0.9265 - loss: 0.2542 - val_accuracy: 0.8298 - val_loss: 0.6386\n",
            "Epoch 18/40\n",
            "\u001b[1m36/36\u001b[0m \u001b[32m━━━━━━━━━━━━━━━━━━━━\u001b[0m\u001b[37m\u001b[0m \u001b[1m8s\u001b[0m 234ms/step - accuracy: 0.9502 - loss: 0.1791 - val_accuracy: 0.8227 - val_loss: 0.8281\n",
            "Epoch 19/40\n",
            "\u001b[1m36/36\u001b[0m \u001b[32m━━━━━━━━━━━━━━━━━━━━\u001b[0m\u001b[37m\u001b[0m \u001b[1m8s\u001b[0m 223ms/step - accuracy: 0.9513 - loss: 0.1807 - val_accuracy: 0.8369 - val_loss: 0.6361\n",
            "Epoch 20/40\n",
            "\u001b[1m36/36\u001b[0m \u001b[32m━━━━━━━━━━━━━━━━━━━━\u001b[0m\u001b[37m\u001b[0m \u001b[1m8s\u001b[0m 229ms/step - accuracy: 0.9511 - loss: 0.1786 - val_accuracy: 0.8511 - val_loss: 0.6300\n",
            "Epoch 21/40\n",
            "\u001b[1m36/36\u001b[0m \u001b[32m━━━━━━━━━━━━━━━━━━━━\u001b[0m\u001b[37m\u001b[0m \u001b[1m8s\u001b[0m 234ms/step - accuracy: 0.9509 - loss: 0.1710 - val_accuracy: 0.8014 - val_loss: 0.6727\n",
            "Epoch 22/40\n",
            "\u001b[1m36/36\u001b[0m \u001b[32m━━━━━━━━━━━━━━━━━━━━\u001b[0m\u001b[37m\u001b[0m \u001b[1m8s\u001b[0m 223ms/step - accuracy: 0.9382 - loss: 0.2043 - val_accuracy: 0.8156 - val_loss: 0.6436\n",
            "Epoch 23/40\n",
            "\u001b[1m36/36\u001b[0m \u001b[32m━━━━━━━━━━━━━━━━━━━━\u001b[0m\u001b[37m\u001b[0m \u001b[1m8s\u001b[0m 217ms/step - accuracy: 0.9227 - loss: 0.1986 - val_accuracy: 0.8085 - val_loss: 0.8325\n",
            "Epoch 24/40\n",
            "\u001b[1m36/36\u001b[0m \u001b[32m━━━━━━━━━━━━━━━━━━━━\u001b[0m\u001b[37m\u001b[0m \u001b[1m9s\u001b[0m 242ms/step - accuracy: 0.9192 - loss: 0.2727 - val_accuracy: 0.8227 - val_loss: 0.6816\n",
            "Epoch 25/40\n",
            "\u001b[1m36/36\u001b[0m \u001b[32m━━━━━━━━━━━━━━━━━━━━\u001b[0m\u001b[37m\u001b[0m \u001b[1m8s\u001b[0m 225ms/step - accuracy: 0.9684 - loss: 0.1074 - val_accuracy: 0.8511 - val_loss: 0.7798\n"
          ]
        }
      ]
    },
    {
      "cell_type": "markdown",
      "source": [
        "### Step - 8: Train MobileNetV2"
      ],
      "metadata": {
        "id": "eYyfhW5krEEb"
      }
    },
    {
      "cell_type": "code",
      "source": [
        "print(\"\\n🚀 Training MobileNetV2...\")\n",
        "mobilenet_model = build_model(MobileNetV2, input_shape, num_classes, fine_tune_at=50, lr=1e-4)\n",
        "history_mobile = mobilenet_model.fit(\n",
        "    aug.flow(X_train_mobile, y_train, batch_size=16),\n",
        "    validation_data=(X_test_mobile, y_test),\n",
        "    epochs=40,\n",
        "    callbacks=[early_stop],\n",
        "    verbose=1\n",
        ")"
      ],
      "metadata": {
        "colab": {
          "base_uri": "https://localhost:8080/"
        },
        "id": "sRn38fz1rJdS",
        "outputId": "be3a9a72-fac0-465d-c7f3-378989d9658c"
      },
      "execution_count": 8,
      "outputs": [
        {
          "output_type": "stream",
          "name": "stdout",
          "text": [
            "\n",
            "🚀 Training MobileNetV2...\n",
            "Downloading data from https://storage.googleapis.com/tensorflow/keras-applications/mobilenet_v2/mobilenet_v2_weights_tf_dim_ordering_tf_kernels_1.0_224_no_top.h5\n",
            "\u001b[1m9406464/9406464\u001b[0m \u001b[32m━━━━━━━━━━━━━━━━━━━━\u001b[0m\u001b[37m\u001b[0m \u001b[1m2s\u001b[0m 0us/step\n",
            "Epoch 1/40\n",
            "\u001b[1m36/36\u001b[0m \u001b[32m━━━━━━━━━━━━━━━━━━━━\u001b[0m\u001b[37m\u001b[0m \u001b[1m69s\u001b[0m 841ms/step - accuracy: 0.0327 - loss: 4.1834 - val_accuracy: 0.0496 - val_loss: 3.3350\n",
            "Epoch 2/40\n",
            "\u001b[1m36/36\u001b[0m \u001b[32m━━━━━━━━━━━━━━━━━━━━\u001b[0m\u001b[37m\u001b[0m \u001b[1m43s\u001b[0m 185ms/step - accuracy: 0.0923 - loss: 3.3751 - val_accuracy: 0.1135 - val_loss: 3.1652\n",
            "Epoch 3/40\n",
            "\u001b[1m36/36\u001b[0m \u001b[32m━━━━━━━━━━━━━━━━━━━━\u001b[0m\u001b[37m\u001b[0m \u001b[1m7s\u001b[0m 208ms/step - accuracy: 0.0910 - loss: 3.2989 - val_accuracy: 0.1348 - val_loss: 3.0854\n",
            "Epoch 4/40\n",
            "\u001b[1m36/36\u001b[0m \u001b[32m━━━━━━━━━━━━━━━━━━━━\u001b[0m\u001b[37m\u001b[0m \u001b[1m7s\u001b[0m 181ms/step - accuracy: 0.0812 - loss: 3.0261 - val_accuracy: 0.1489 - val_loss: 3.0021\n",
            "Epoch 5/40\n",
            "\u001b[1m36/36\u001b[0m \u001b[32m━━━━━━━━━━━━━━━━━━━━\u001b[0m\u001b[37m\u001b[0m \u001b[1m8s\u001b[0m 211ms/step - accuracy: 0.1413 - loss: 2.9407 - val_accuracy: 0.1631 - val_loss: 2.8993\n",
            "Epoch 6/40\n",
            "\u001b[1m36/36\u001b[0m \u001b[32m━━━━━━━━━━━━━━━━━━━━\u001b[0m\u001b[37m\u001b[0m \u001b[1m7s\u001b[0m 197ms/step - accuracy: 0.2215 - loss: 2.7289 - val_accuracy: 0.2199 - val_loss: 2.7665\n",
            "Epoch 7/40\n",
            "\u001b[1m36/36\u001b[0m \u001b[32m━━━━━━━━━━━━━━━━━━━━\u001b[0m\u001b[37m\u001b[0m \u001b[1m10s\u001b[0m 183ms/step - accuracy: 0.2220 - loss: 2.7108 - val_accuracy: 0.2553 - val_loss: 2.6168\n",
            "Epoch 8/40\n",
            "\u001b[1m36/36\u001b[0m \u001b[32m━━━━━━━━━━━━━━━━━━━━\u001b[0m\u001b[37m\u001b[0m \u001b[1m7s\u001b[0m 207ms/step - accuracy: 0.2849 - loss: 2.4817 - val_accuracy: 0.3333 - val_loss: 2.3995\n",
            "Epoch 9/40\n",
            "\u001b[1m36/36\u001b[0m \u001b[32m━━━━━━━━━━━━━━━━━━━━\u001b[0m\u001b[37m\u001b[0m \u001b[1m7s\u001b[0m 189ms/step - accuracy: 0.3473 - loss: 2.2830 - val_accuracy: 0.3546 - val_loss: 2.2171\n",
            "Epoch 10/40\n",
            "\u001b[1m36/36\u001b[0m \u001b[32m━━━━━━━━━━━━━━━━━━━━\u001b[0m\u001b[37m\u001b[0m \u001b[1m7s\u001b[0m 190ms/step - accuracy: 0.3698 - loss: 2.0931 - val_accuracy: 0.3972 - val_loss: 2.0411\n",
            "Epoch 11/40\n",
            "\u001b[1m36/36\u001b[0m \u001b[32m━━━━━━━━━━━━━━━━━━━━\u001b[0m\u001b[37m\u001b[0m \u001b[1m7s\u001b[0m 208ms/step - accuracy: 0.4155 - loss: 1.9071 - val_accuracy: 0.4255 - val_loss: 1.8797\n",
            "Epoch 12/40\n",
            "\u001b[1m36/36\u001b[0m \u001b[32m━━━━━━━━━━━━━━━━━━━━\u001b[0m\u001b[37m\u001b[0m \u001b[1m7s\u001b[0m 180ms/step - accuracy: 0.5215 - loss: 1.5681 - val_accuracy: 0.4894 - val_loss: 1.6895\n",
            "Epoch 13/40\n",
            "\u001b[1m36/36\u001b[0m \u001b[32m━━━━━━━━━━━━━━━━━━━━\u001b[0m\u001b[37m\u001b[0m \u001b[1m8s\u001b[0m 209ms/step - accuracy: 0.5437 - loss: 1.4696 - val_accuracy: 0.4965 - val_loss: 1.5601\n",
            "Epoch 14/40\n",
            "\u001b[1m36/36\u001b[0m \u001b[32m━━━━━━━━━━━━━━━━━━━━\u001b[0m\u001b[37m\u001b[0m \u001b[1m7s\u001b[0m 180ms/step - accuracy: 0.6049 - loss: 1.3214 - val_accuracy: 0.5887 - val_loss: 1.3805\n",
            "Epoch 15/40\n",
            "\u001b[1m36/36\u001b[0m \u001b[32m━━━━━━━━━━━━━━━━━━━━\u001b[0m\u001b[37m\u001b[0m \u001b[1m7s\u001b[0m 208ms/step - accuracy: 0.7110 - loss: 1.0484 - val_accuracy: 0.6170 - val_loss: 1.2078\n",
            "Epoch 16/40\n",
            "\u001b[1m36/36\u001b[0m \u001b[32m━━━━━━━━━━━━━━━━━━━━\u001b[0m\u001b[37m\u001b[0m \u001b[1m7s\u001b[0m 196ms/step - accuracy: 0.7081 - loss: 0.9880 - val_accuracy: 0.6879 - val_loss: 0.9603\n",
            "Epoch 17/40\n",
            "\u001b[1m36/36\u001b[0m \u001b[32m━━━━━━━━━━━━━━━━━━━━\u001b[0m\u001b[37m\u001b[0m \u001b[1m7s\u001b[0m 183ms/step - accuracy: 0.7547 - loss: 0.8934 - val_accuracy: 0.7021 - val_loss: 0.9680\n",
            "Epoch 18/40\n",
            "\u001b[1m36/36\u001b[0m \u001b[32m━━━━━━━━━━━━━━━━━━━━\u001b[0m\u001b[37m\u001b[0m \u001b[1m8s\u001b[0m 208ms/step - accuracy: 0.7529 - loss: 0.8498 - val_accuracy: 0.7092 - val_loss: 0.9099\n",
            "Epoch 19/40\n",
            "\u001b[1m36/36\u001b[0m \u001b[32m━━━━━━━━━━━━━━━━━━━━\u001b[0m\u001b[37m\u001b[0m \u001b[1m6s\u001b[0m 179ms/step - accuracy: 0.8010 - loss: 0.6859 - val_accuracy: 0.7234 - val_loss: 0.8975\n",
            "Epoch 20/40\n",
            "\u001b[1m36/36\u001b[0m \u001b[32m━━━━━━━━━━━━━━━━━━━━\u001b[0m\u001b[37m\u001b[0m \u001b[1m7s\u001b[0m 203ms/step - accuracy: 0.8592 - loss: 0.5403 - val_accuracy: 0.7234 - val_loss: 0.8444\n",
            "Epoch 21/40\n",
            "\u001b[1m36/36\u001b[0m \u001b[32m━━━━━━━━━━━━━━━━━━━━\u001b[0m\u001b[37m\u001b[0m \u001b[1m6s\u001b[0m 179ms/step - accuracy: 0.8491 - loss: 0.4765 - val_accuracy: 0.7376 - val_loss: 0.8117\n",
            "Epoch 22/40\n",
            "\u001b[1m36/36\u001b[0m \u001b[32m━━━━━━━━━━━━━━━━━━━━\u001b[0m\u001b[37m\u001b[0m \u001b[1m10s\u001b[0m 180ms/step - accuracy: 0.8493 - loss: 0.5668 - val_accuracy: 0.7518 - val_loss: 0.7779\n",
            "Epoch 23/40\n",
            "\u001b[1m36/36\u001b[0m \u001b[32m━━━━━━━━━━━━━━━━━━━━\u001b[0m\u001b[37m\u001b[0m \u001b[1m7s\u001b[0m 203ms/step - accuracy: 0.8629 - loss: 0.4634 - val_accuracy: 0.7518 - val_loss: 0.7876\n",
            "Epoch 24/40\n",
            "\u001b[1m36/36\u001b[0m \u001b[32m━━━━━━━━━━━━━━━━━━━━\u001b[0m\u001b[37m\u001b[0m \u001b[1m6s\u001b[0m 177ms/step - accuracy: 0.8947 - loss: 0.3786 - val_accuracy: 0.7518 - val_loss: 0.7910\n",
            "Epoch 25/40\n",
            "\u001b[1m36/36\u001b[0m \u001b[32m━━━━━━━━━━━━━━━━━━━━\u001b[0m\u001b[37m\u001b[0m \u001b[1m8s\u001b[0m 211ms/step - accuracy: 0.8748 - loss: 0.4248 - val_accuracy: 0.7589 - val_loss: 0.8390\n",
            "Epoch 26/40\n",
            "\u001b[1m36/36\u001b[0m \u001b[32m━━━━━━━━━━━━━━━━━━━━\u001b[0m\u001b[37m\u001b[0m \u001b[1m7s\u001b[0m 203ms/step - accuracy: 0.8932 - loss: 0.3536 - val_accuracy: 0.7872 - val_loss: 0.7709\n",
            "Epoch 27/40\n",
            "\u001b[1m36/36\u001b[0m \u001b[32m━━━━━━━━━━━━━━━━━━━━\u001b[0m\u001b[37m\u001b[0m \u001b[1m6s\u001b[0m 178ms/step - accuracy: 0.8784 - loss: 0.3499 - val_accuracy: 0.7872 - val_loss: 0.7803\n",
            "Epoch 28/40\n",
            "\u001b[1m36/36\u001b[0m \u001b[32m━━━━━━━━━━━━━━━━━━━━\u001b[0m\u001b[37m\u001b[0m \u001b[1m7s\u001b[0m 203ms/step - accuracy: 0.9325 - loss: 0.2700 - val_accuracy: 0.7872 - val_loss: 0.6894\n",
            "Epoch 29/40\n",
            "\u001b[1m36/36\u001b[0m \u001b[32m━━━━━━━━━━━━━━━━━━━━\u001b[0m\u001b[37m\u001b[0m \u001b[1m6s\u001b[0m 175ms/step - accuracy: 0.9351 - loss: 0.2666 - val_accuracy: 0.7872 - val_loss: 0.7013\n",
            "Epoch 30/40\n",
            "\u001b[1m36/36\u001b[0m \u001b[32m━━━━━━━━━━━━━━━━━━━━\u001b[0m\u001b[37m\u001b[0m \u001b[1m7s\u001b[0m 203ms/step - accuracy: 0.9395 - loss: 0.2405 - val_accuracy: 0.7801 - val_loss: 0.6859\n",
            "Epoch 31/40\n",
            "\u001b[1m36/36\u001b[0m \u001b[32m━━━━━━━━━━━━━━━━━━━━\u001b[0m\u001b[37m\u001b[0m \u001b[1m6s\u001b[0m 179ms/step - accuracy: 0.9176 - loss: 0.2536 - val_accuracy: 0.7872 - val_loss: 0.7145\n"
          ]
        }
      ]
    },
    {
      "cell_type": "markdown",
      "source": [
        "### Step - 9: Evaluate the models"
      ],
      "metadata": {
        "id": "57ri00HerL_d"
      }
    },
    {
      "cell_type": "code",
      "source": [
        "def evaluate_model(model, name, X_train, y_train, X_test, y_test):\n",
        "    train_loss, train_acc = model.evaluate(X_train, y_train, verbose=0)\n",
        "    test_loss, test_acc = model.evaluate(X_test, y_test, verbose=0)\n",
        "    print(f\"\\n📊 {name} Results\")\n",
        "    print(f\"✅ Training Accuracy: {train_acc * 100:.2f}%\")\n",
        "    print(f\"✅ Testing Accuracy:  {test_acc * 100:.2f}%\")\n",
        "    return train_acc, test_acc\n",
        "\n",
        "acc_resnet_train, acc_resnet_test = evaluate_model(resnet_model, \"ResNet50\", X_train_resnet, y_train, X_test_resnet, y_test)\n",
        "acc_mobile_train, acc_mobile_test = evaluate_model(mobilenet_model, \"MobileNetV2\", X_train_mobile, y_train, X_test_mobile, y_test)"
      ],
      "metadata": {
        "colab": {
          "base_uri": "https://localhost:8080/"
        },
        "id": "GFQx88CBrOzR",
        "outputId": "c69c0a2d-2484-4c5a-a724-e39f7da476e4"
      },
      "execution_count": 9,
      "outputs": [
        {
          "output_type": "stream",
          "name": "stdout",
          "text": [
            "\n",
            "📊 ResNet50 Results\n",
            "✅ Training Accuracy: 98.93%\n",
            "✅ Testing Accuracy:  85.11%\n",
            "\n",
            "📊 MobileNetV2 Results\n",
            "✅ Training Accuracy: 97.50%\n",
            "✅ Testing Accuracy:  78.72%\n"
          ]
        }
      ]
    },
    {
      "cell_type": "markdown",
      "source": [
        "### Step - 10: Plot the graphs"
      ],
      "metadata": {
        "id": "sB7FQ7JirRZk"
      }
    },
    {
      "cell_type": "code",
      "source": [
        "def plot_history(history, title):\n",
        "    plt.plot(history.history['accuracy'], label='Train Accuracy')\n",
        "    plt.plot(history.history['val_accuracy'], label='Val Accuracy')\n",
        "    plt.title(title)\n",
        "    plt.xlabel(\"Epoch\")\n",
        "    plt.ylabel(\"Accuracy\")\n",
        "    plt.legend()\n",
        "    plt.grid(True)\n",
        "    plt.show()\n",
        "    print()\n",
        "\n",
        "plot_history(history_resnet, \"ResNet50 Accuracy\")\n",
        "plot_history(history_mobile, \"MobileNetV2 Accuracy\")"
      ],
      "metadata": {
        "colab": {
          "base_uri": "https://localhost:8080/",
          "height": 962
        },
        "id": "URfJWEAarUYq",
        "outputId": "f1b388a2-41c3-4a44-a983-cc941b05a938"
      },
      "execution_count": 10,
      "outputs": [
        {
          "output_type": "display_data",
          "data": {
            "text/plain": [
              "<Figure size 640x480 with 1 Axes>"
            ],
            "image/png": "[encoded data removed]"
          },
          "metadata": {}
        },
        {
          "output_type": "stream",
          "name": "stdout",
          "text": [
            "\n"
          ]
        },
        {
          "output_type": "display_data",
          "data": {
            "text/plain": [
              "<Figure size 640x480 with 1 Axes>"
            ],
            "image/png": "[encoded data removed]"
          },
          "metadata": {}
        },
        {
          "output_type": "stream",
          "name": "stdout",
          "text": [
            "\n"
          ]
        }
      ]
    }
  ]
}